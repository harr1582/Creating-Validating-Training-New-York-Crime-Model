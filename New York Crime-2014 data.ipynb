{
 "cells": [
  {
   "cell_type": "code",
   "execution_count": 15,
   "metadata": {},
   "outputs": [],
   "source": [
    "import pandas as pd\n",
    "import matplotlib.pyplot as plt\n",
    "import numpy as np\n",
    "import sklearn\n",
    "%matplotlib inline"
   ]
  },
  {
   "cell_type": "code",
   "execution_count": 52,
   "metadata": {
    "scrolled": true
   },
   "outputs": [
    {
     "name": "stdout",
     "output_type": "stream",
     "text": [
      "                             Table 8  Unnamed: 1      Unnamed: 2  \\\n",
      "0                           NEW YORK         NaN             NaN   \n",
      "1  Offenses Known to Law Enforcement         NaN             NaN   \n",
      "2                      by City, 2014         NaN             NaN   \n",
      "3                               City  Population  Violent\\ncrime   \n",
      "4                      Adams Village       1,851               0   \n",
      "5           Addison Town and Village       2,568               2   \n",
      "6                     Afton Village4         820               0   \n",
      "7                      Akron Village       2,842               1   \n",
      "8                            Albany4      98,595             802   \n",
      "9                    Albion Village4       5,872              26   \n",
      "\n",
      "                               Unnamed: 3                    Unnamed: 4  \\\n",
      "0                                     NaN                           NaN   \n",
      "1                                     NaN                           NaN   \n",
      "2                                     NaN                           NaN   \n",
      "3  Murder and\\nnonnegligent\\nmanslaughter  Rape\\n(revised\\ndefinition)1   \n",
      "4                                       0                           NaN   \n",
      "5                                       0                           NaN   \n",
      "6                                       0                             0   \n",
      "7                                       0                           NaN   \n",
      "8                                       8                            54   \n",
      "9                                       0                             3   \n",
      "\n",
      "                    Unnamed: 5 Unnamed: 6           Unnamed: 7  \\\n",
      "0                          NaN        NaN                  NaN   \n",
      "1                                     NaN                  NaN   \n",
      "2                          NaN        NaN                  NaN   \n",
      "3  Rape\\n(legacy\\ndefinition)2    Robbery  Aggravated\\nassault   \n",
      "4                            0          0                    0   \n",
      "5                            0          1                    1   \n",
      "6                          NaN          0                    0   \n",
      "7                            0          0                    1   \n",
      "8                          NaN        237                  503   \n",
      "9                          NaN          2                   21   \n",
      "\n",
      "        Unnamed: 8 Unnamed: 9      Unnamed: 10            Unnamed: 11  \\\n",
      "0              NaN        NaN              NaN                    NaN   \n",
      "1              NaN        NaN              NaN                    NaN   \n",
      "2              NaN        NaN              NaN                    NaN   \n",
      "3  Property\\ncrime   Burglary  Larceny-\\ntheft  Motor\\nvehicle\\ntheft   \n",
      "4               11          1               10                      0   \n",
      "5               49          1               47                      1   \n",
      "6                1          0                1                      0   \n",
      "7               17          0               17                      0   \n",
      "8            3,888        683            3,083                    122   \n",
      "9              204         41              159                      4   \n",
      "\n",
      "  Unnamed: 12  Unnamed: 13  \n",
      "0         NaN          NaN  \n",
      "1         NaN          NaN  \n",
      "2         NaN          NaN  \n",
      "3      Arson3          NaN  \n",
      "4           0          NaN  \n",
      "5           0          NaN  \n",
      "6           0          NaN  \n",
      "7           0          NaN  \n",
      "8          12          NaN  \n",
      "9           0          NaN  \n"
     ]
    }
   ],
   "source": [
    "df = pd.read_csv(r'C:\\Users\\harr1\\Desktop\\Thinkful\\NY Crime 2014.csv')\n",
    "print(df.head(10))"
   ]
  },
  {
   "cell_type": "code",
   "execution_count": 54,
   "metadata": {
    "collapsed": true
   },
   "outputs": [
    {
     "name": "stdout",
     "output_type": "stream",
     "text": [
      "3                       City Population Violent_crime  \\\n",
      "4              Adams Village      1,851             0   \n",
      "5   Addison Town and Village      2,568             2   \n",
      "6             Afton Village4        820             0   \n",
      "7              Akron Village      2,842             1   \n",
      "8                    Albany4     98,595           802   \n",
      "9            Albion Village4      5,872            26   \n",
      "10   Alexandria Bay Village4      1,107             0   \n",
      "11           Alfred Village4      4,032            11   \n",
      "12         Altamont Village4      1,723             1   \n",
      "13             Amherst Town4    118,860           128   \n",
      "\n",
      "3  Murder_and_nonnegligent_manslaughter Rape_legacy_definition2 Robbery  \\\n",
      "4                                     0                       0       0   \n",
      "5                                     0                       0       1   \n",
      "6                                     0                     NaN       0   \n",
      "7                                     0                       0       0   \n",
      "8                                     8                     NaN     237   \n",
      "9                                     0                     NaN       2   \n",
      "10                                    0                     NaN       0   \n",
      "11                                    1                     NaN       0   \n",
      "12                                    0                     NaN       0   \n",
      "13                                    1                     NaN      43   \n",
      "\n",
      "3  Aggravated_assault Property_crime Burglary Larceny-_theft  \\\n",
      "4                   0             11        1             10   \n",
      "5                   1             49        1             47   \n",
      "6                   0              1        0              1   \n",
      "7                   1             17        0             17   \n",
      "8                 503          3,888      683          3,083   \n",
      "9                  21            204       41            159   \n",
      "10                  0              7        2              5   \n",
      "11                  9             30        6             24   \n",
      "12                  1              2        2              0   \n",
      "13                 68          2,066      176          1,846   \n",
      "\n",
      "3  Motor_vehicle_theft Arson3  \n",
      "4                    0      0  \n",
      "5                    1      0  \n",
      "6                    0      0  \n",
      "7                    0      0  \n",
      "8                  122     12  \n",
      "9                    4      0  \n",
      "10                   0      0  \n",
      "11                   0      0  \n",
      "12                   0      0  \n",
      "13                  44      2  \n"
     ]
    }
   ],
   "source": [
    "\n",
    "new_df = df.drop([0,1,2, 3, 373, 374, 375, 376, 377])\n",
    "new_df.columns = df.iloc[3]\n",
    "new_df.columns = new_df.columns.str.replace(' ', '_').str.replace('(', '').str.replace(')', '').str.replace('\\n', '_')\n",
    "modcrime= new_df.drop([new_df.columns[4], new_df.columns[13]], axis = 'columns')\n",
    "print (modcrime.head(10))\n"
   ]
  },
  {
   "cell_type": "code",
   "execution_count": 67,
   "metadata": {
    "collapsed": true
   },
   "outputs": [
    {
     "name": "stdout",
     "output_type": "stream",
     "text": [
      "4        1851\n",
      "5        2568\n",
      "6         820\n",
      "7        2842\n",
      "8       98595\n",
      "9        5872\n",
      "10       1107\n",
      "11       4032\n",
      "12       1723\n",
      "13     118860\n",
      "14       2250\n",
      "15       9509\n",
      "16      18099\n",
      "17        846\n",
      "18       2030\n",
      "19       4561\n",
      "20        656\n",
      "21       2502\n",
      "22       3333\n",
      "23       7485\n",
      "24       5470\n",
      "25      15223\n",
      "26       5703\n",
      "27      14330\n",
      "28      17782\n",
      "29      34653\n",
      "30      46229\n",
      "31       1392\n",
      "32      11960\n",
      "33       2321\n",
      "        ...  \n",
      "342     61702\n",
      "343      1166\n",
      "344     28019\n",
      "345      6847\n",
      "346     28211\n",
      "347      2980\n",
      "348      3397\n",
      "349      5788\n",
      "350      8398\n",
      "351      5185\n",
      "352     28009\n",
      "353     10235\n",
      "354      1871\n",
      "355      4344\n",
      "356     44230\n",
      "357      1796\n",
      "358      4576\n",
      "359      3147\n",
      "360      1753\n",
      "361     44866\n",
      "362      2598\n",
      "363     58103\n",
      "364      3727\n",
      "365      9307\n",
      "366      1682\n",
      "367      1646\n",
      "369      5907\n",
      "370    200624\n",
      "371     36989\n",
      "372      1896\n",
      "Name: PopNum, Length: 368, dtype: object\n",
      "4        11\n",
      "5        49\n",
      "6         1\n",
      "7        17\n",
      "8      3888\n",
      "9       204\n",
      "10        7\n",
      "11       30\n",
      "12        2\n",
      "13     2066\n",
      "14        0\n",
      "15      198\n",
      "16      490\n",
      "17        6\n",
      "18       25\n",
      "19       25\n",
      "20        6\n",
      "21       12\n",
      "22       14\n",
      "23       65\n",
      "24       73\n",
      "25      599\n",
      "26      148\n",
      "27      245\n",
      "28      123\n",
      "29      454\n",
      "30     2048\n",
      "31        3\n",
      "32       86\n",
      "33        9\n",
      "       ... \n",
      "342    2366\n",
      "343      15\n",
      "344     580\n",
      "345      89\n",
      "346     506\n",
      "347      75\n",
      "348      75\n",
      "349      59\n",
      "350      58\n",
      "351     154\n",
      "352    1296\n",
      "353     199\n",
      "354     103\n",
      "355      20\n",
      "356     496\n",
      "357      21\n",
      "358     156\n",
      "359       9\n",
      "360      33\n",
      "361     764\n",
      "362      44\n",
      "363    1046\n",
      "364      41\n",
      "365      71\n",
      "366      18\n",
      "367       4\n",
      "369      43\n",
      "370    2009\n",
      "371     209\n",
      "372       1\n",
      "Name: PropertyNum, Length: 368, dtype: object\n"
     ]
    }
   ],
   "source": [
    "modcrime['PopNum'] = modcrime['Population'].str.replace(',', '')\n",
    "modcrime['PropertyNum'] = modcrime['Property_crime'].str.replace(',', '')\n",
    "modcrime['RobberyNum'] = modcrime['Robbery'].str.replace(',', '')\n",
    "modcrime['Burg'] = modcrime['Burglary'].str.replace(',', '')\n",
    "print(modcrime['PopNum'])\n",
    "print(modcrime['PropertyNum'])"
   ]
  },
  {
   "cell_type": "code",
   "execution_count": 68,
   "metadata": {},
   "outputs": [],
   "source": [
    "modcrime = modcrime.dropna(subset = ['Property_crime'])"
   ]
  },
  {
   "cell_type": "code",
   "execution_count": 69,
   "metadata": {
    "collapsed": true
   },
   "outputs": [
    {
     "name": "stdout",
     "output_type": "stream",
     "text": [
      "4        1851\n",
      "5        2568\n",
      "6         820\n",
      "7        2842\n",
      "8       98595\n",
      "9        5872\n",
      "10       1107\n",
      "11       4032\n",
      "12       1723\n",
      "13     118860\n",
      "14       2250\n",
      "15       9509\n",
      "16      18099\n",
      "17        846\n",
      "18       2030\n",
      "19       4561\n",
      "20        656\n",
      "21       2502\n",
      "22       3333\n",
      "23       7485\n",
      "24       5470\n",
      "25      15223\n",
      "26       5703\n",
      "27      14330\n",
      "28      17782\n",
      "29      34653\n",
      "30      46229\n",
      "31       1392\n",
      "32      11960\n",
      "33       2321\n",
      "        ...  \n",
      "342     61702\n",
      "343      1166\n",
      "344     28019\n",
      "345      6847\n",
      "346     28211\n",
      "347      2980\n",
      "348      3397\n",
      "349      5788\n",
      "350      8398\n",
      "351      5185\n",
      "352     28009\n",
      "353     10235\n",
      "354      1871\n",
      "355      4344\n",
      "356     44230\n",
      "357      1796\n",
      "358      4576\n",
      "359      3147\n",
      "360      1753\n",
      "361     44866\n",
      "362      2598\n",
      "363     58103\n",
      "364      3727\n",
      "365      9307\n",
      "366      1682\n",
      "367      1646\n",
      "369      5907\n",
      "370    200624\n",
      "371     36989\n",
      "372      1896\n",
      "Name: PopNum, Length: 368, dtype: int64\n"
     ]
    }
   ],
   "source": [
    "modcrime.RobberyNum = pd.to_numeric(modcrime.RobberyNum, errors = 'coerce')\n",
    "modcrime.PopNum = pd.to_numeric(modcrime.PopNum, errors='coerce')\n",
    "modcrime.PropertyNum = pd.to_numeric(modcrime.PropertyNum, errors='coerce')\n",
    "modcrime.Burg = pd.to_numeric(modcrime.Burg, errors = 'coerce')\n",
    "print (modcrime.PopNum)"
   ]
  },
  {
   "cell_type": "code",
   "execution_count": 59,
   "metadata": {
    "collapsed": true
   },
   "outputs": [
    {
     "name": "stdout",
     "output_type": "stream",
     "text": [
      "4      0\n",
      "5      0\n",
      "6      0\n",
      "7      0\n",
      "8      8\n",
      "9      0\n",
      "10     0\n",
      "11     1\n",
      "12     0\n",
      "13     1\n",
      "14     0\n",
      "15     0\n",
      "16     0\n",
      "17     0\n",
      "18     0\n",
      "19     0\n",
      "20     0\n",
      "21     0\n",
      "22     0\n",
      "23     0\n",
      "24     0\n",
      "25     0\n",
      "26     0\n",
      "27     0\n",
      "28     0\n",
      "29     0\n",
      "30     1\n",
      "31     0\n",
      "32     0\n",
      "33     0\n",
      "      ..\n",
      "342    6\n",
      "343    0\n",
      "344    0\n",
      "345    0\n",
      "346    0\n",
      "347    0\n",
      "348    0\n",
      "349    0\n",
      "350    0\n",
      "351    0\n",
      "352    0\n",
      "353    0\n",
      "354    0\n",
      "355    0\n",
      "356    1\n",
      "357    0\n",
      "358    0\n",
      "359    0\n",
      "360    0\n",
      "361    0\n",
      "362    0\n",
      "363    1\n",
      "364    0\n",
      "365    0\n",
      "366    0\n",
      "367    0\n",
      "369    0\n",
      "370    3\n",
      "371    0\n",
      "372    0\n",
      "Name: Murder, Length: 368, dtype: int64\n"
     ]
    },
    {
     "name": "stderr",
     "output_type": "stream",
     "text": [
      "C:\\Users\\harr1\\Anaconda3\\lib\\site-packages\\ipykernel_launcher.py:1: SettingWithCopyWarning: \n",
      "A value is trying to be set on a copy of a slice from a DataFrame.\n",
      "Try using .loc[row_indexer,col_indexer] = value instead\n",
      "\n",
      "See the caveats in the documentation: http://pandas.pydata.org/pandas-docs/stable/indexing.html#indexing-view-versus-copy\n",
      "  \"\"\"Entry point for launching an IPython kernel.\n"
     ]
    }
   ],
   "source": [
    "modcrime['Murder'] = pd.to_numeric(modcrime.Murder_and_nonnegligent_manslaughter, errors='coerce')\n",
    "print (modcrime['Murder'])"
   ]
  },
  {
   "cell_type": "code",
   "execution_count": 70,
   "metadata": {
    "collapsed": true
   },
   "outputs": [
    {
     "name": "stdout",
     "output_type": "stream",
     "text": [
      "4     True\n",
      "5     True\n",
      "6     True\n",
      "7     True\n",
      "8    False\n",
      "Name: Murder0, dtype: bool\n",
      "4    False\n",
      "5    False\n",
      "6    False\n",
      "7    False\n",
      "8     True\n",
      "Name: Murder1, dtype: bool\n"
     ]
    }
   ],
   "source": [
    "modcrime['Murder0'] = (modcrime['Murder'] == 0)\n",
    "modcrime['Murder1'] = (modcrime['Murder'] != 0)\n",
    "print(modcrime['Murder0'].head(5))\n",
    "print(modcrime['Murder1'].head(5))"
   ]
  },
  {
   "cell_type": "code",
   "execution_count": 71,
   "metadata": {
    "collapsed": true
   },
   "outputs": [
    {
     "name": "stdout",
     "output_type": "stream",
     "text": [
      "4     True\n",
      "5    False\n",
      "6     True\n",
      "7     True\n",
      "8    False\n",
      "Name: Robbery0, dtype: bool\n",
      "4    False\n",
      "5     True\n",
      "6    False\n",
      "7    False\n",
      "8     True\n",
      "Name: Robbery1, dtype: bool\n"
     ]
    }
   ],
   "source": [
    "modcrime['Robbery0'] = (modcrime['RobberyNum'] == 0)\n",
    "modcrime['Robbery1'] = (modcrime['RobberyNum'] != 0)\n",
    "print(modcrime['Robbery0'].head(5))\n",
    "print(modcrime['Robbery1'].head(5))"
   ]
  },
  {
   "cell_type": "code",
   "execution_count": 44,
   "metadata": {
    "collapsed": true
   },
   "outputs": [
    {
     "name": "stdout",
     "output_type": "stream",
     "text": [
      "3                   City Population Violent_crime  \\\n",
      "365      Whitestown Town      9,307             0   \n",
      "366        Windham Town4      1,682             1   \n",
      "367      Wolcott Village      1,646             0   \n",
      "368    Woodbury Town4, 5     10,739             4   \n",
      "369      Woodstock Town4      5,907             3   \n",
      "370             Yonkers4    200,624           974   \n",
      "371       Yorktown Town4     36,989            13   \n",
      "372  Youngstown Village4      1,896             0   \n",
      "378                  NaN        NaN           NaN   \n",
      "379                             NaN           NaN   \n",
      "\n",
      "3   Murder_and_nonnegligent_manslaughter Rape_legacy_definition2 Robbery  \\\n",
      "365                                    0                       0       0   \n",
      "366                                    0                     NaN       0   \n",
      "367                                    0                       0       0   \n",
      "368                                    0                     NaN       1   \n",
      "369                                    0                     NaN       2   \n",
      "370                                    3                     NaN     358   \n",
      "371                                    0                     NaN       0   \n",
      "372                                    0                     NaN       0   \n",
      "378                                  NaN                     NaN     NaN   \n",
      "379                                  NaN                     NaN     NaN   \n",
      "\n",
      "3   Aggravated_assault Property_crime Burglary Larceny-_theft  \\\n",
      "365                  0             71       16             55   \n",
      "366                  1             18        8              9   \n",
      "367                  0              4        0              4   \n",
      "368                  3            NaN        5            NaN   \n",
      "369                  0             43       14             29   \n",
      "370                580          2,009      414          1,395   \n",
      "371                 13            209       24            182   \n",
      "372                  0              1        0              1   \n",
      "378                NaN            NaN      NaN            NaN   \n",
      "379                NaN            NaN      NaN            NaN   \n",
      "\n",
      "3   Motor_vehicle_theft Arson3    PopNum  PropertyNum  RobberyNum  Murder  \\\n",
      "365                   0      0    9307.0         71.0         0.0     0.0   \n",
      "366                   1      0    1682.0         18.0         0.0     0.0   \n",
      "367                   0      0    1646.0          4.0         0.0     0.0   \n",
      "368                   0      0   10739.0          NaN         1.0     0.0   \n",
      "369                   0      0    5907.0         43.0         2.0     0.0   \n",
      "370                 200     15  200624.0       2009.0       358.0     3.0   \n",
      "371                   3      0   36989.0        209.0         0.0     0.0   \n",
      "372                   0      0    1896.0          1.0         0.0     0.0   \n",
      "378                 NaN    NaN       NaN          NaN         NaN     NaN   \n",
      "379                 NaN    NaN       NaN          NaN         NaN     NaN   \n",
      "\n",
      "3    Murder0  Murder1  Robbery0  Robbery1  \n",
      "365     True    False      True     False  \n",
      "366     True    False      True     False  \n",
      "367     True    False      True     False  \n",
      "368     True    False     False      True  \n",
      "369     True    False     False      True  \n",
      "370    False     True     False      True  \n",
      "371     True    False      True     False  \n",
      "372     True    False      True     False  \n",
      "378    False     True     False      True  \n",
      "379    False     True     False      True  \n"
     ]
    }
   ],
   "source": [
    "print (modcrime.tail(10))"
   ]
  },
  {
   "cell_type": "code",
   "execution_count": 43,
   "metadata": {
    "collapsed": true
   },
   "outputs": [
    {
     "name": "stdout",
     "output_type": "stream",
     "text": [
      "3                   City Population Violent_crime  \\\n",
      "365      Whitestown Town      9,307             0   \n",
      "366        Windham Town4      1,682             1   \n",
      "367      Wolcott Village      1,646             0   \n",
      "368    Woodbury Town4, 5     10,739             4   \n",
      "369      Woodstock Town4      5,907             3   \n",
      "370             Yonkers4    200,624           974   \n",
      "371       Yorktown Town4     36,989            13   \n",
      "372  Youngstown Village4      1,896             0   \n",
      "378                  NaN        NaN           NaN   \n",
      "379                             NaN           NaN   \n",
      "\n",
      "3   Murder_and_nonnegligent_manslaughter Rape_legacy_definition2 Robbery  \\\n",
      "365                                    0                       0       0   \n",
      "366                                    0                     NaN       0   \n",
      "367                                    0                       0       0   \n",
      "368                                    0                     NaN       1   \n",
      "369                                    0                     NaN       2   \n",
      "370                                    3                     NaN     358   \n",
      "371                                    0                     NaN       0   \n",
      "372                                    0                     NaN       0   \n",
      "378                                  NaN                     NaN     NaN   \n",
      "379                                  NaN                     NaN     NaN   \n",
      "\n",
      "3   Aggravated_assault Property_crime Burglary Larceny-_theft  \\\n",
      "365                  0             71       16             55   \n",
      "366                  1             18        8              9   \n",
      "367                  0              4        0              4   \n",
      "368                  3            NaN        5            NaN   \n",
      "369                  0             43       14             29   \n",
      "370                580          2,009      414          1,395   \n",
      "371                 13            209       24            182   \n",
      "372                  0              1        0              1   \n",
      "378                NaN            NaN      NaN            NaN   \n",
      "379                NaN            NaN      NaN            NaN   \n",
      "\n",
      "3   Motor_vehicle_theft Arson3    PopNum  PropertyNum  RobberyNum  Murder  \\\n",
      "365                   0      0    9307.0         71.0         0.0     0.0   \n",
      "366                   1      0    1682.0         18.0         0.0     0.0   \n",
      "367                   0      0    1646.0          4.0         0.0     0.0   \n",
      "368                   0      0   10739.0          NaN         1.0     0.0   \n",
      "369                   0      0    5907.0         43.0         2.0     0.0   \n",
      "370                 200     15  200624.0       2009.0       358.0     3.0   \n",
      "371                   3      0   36989.0        209.0         0.0     0.0   \n",
      "372                   0      0    1896.0          1.0         0.0     0.0   \n",
      "378                 NaN    NaN       NaN          NaN         NaN     NaN   \n",
      "379                 NaN    NaN       NaN          NaN         NaN     NaN   \n",
      "\n",
      "3    Murder0  Murder1  Robbery0  Robbery1  \n",
      "365     True    False      True     False  \n",
      "366     True    False      True     False  \n",
      "367     True    False      True     False  \n",
      "368     True    False     False      True  \n",
      "369     True    False     False      True  \n",
      "370    False     True     False      True  \n",
      "371     True    False      True     False  \n",
      "372     True    False      True     False  \n",
      "378    False     True     False      True  \n",
      "379    False     True     False      True  \n"
     ]
    }
   ],
   "source": [
    "print(modcrime.tail(10))"
   ]
  },
  {
   "cell_type": "code",
   "execution_count": 72,
   "metadata": {},
   "outputs": [],
   "source": [
    "data = modcrime [['Murder0', 'Robbery1', 'Burg']]\n",
    "target = modcrime.PropertyNum\n"
   ]
  },
  {
   "cell_type": "code",
   "execution_count": 73,
   "metadata": {},
   "outputs": [
    {
     "name": "stderr",
     "output_type": "stream",
     "text": [
      "C:\\Users\\harr1\\Anaconda3\\lib\\site-packages\\sklearn\\model_selection\\_split.py:652: Warning: The least populated class in y has only 1 members, which is too few. The minimum number of members in any class cannot be less than n_splits=4.\n",
      "  % (min_groups, self.n_splits)), Warning)\n"
     ]
    },
    {
     "data": {
      "text/plain": [
       "array([0.0209205 , 0.05714286, 0.07692308, 0.1       ])"
      ]
     },
     "execution_count": 73,
     "metadata": {},
     "output_type": "execute_result"
    }
   ],
   "source": [
    "from sklearn.model_selection import cross_val_score\n",
    "cross_val_score(bnb, data, target, cv=4)"
   ]
  },
  {
   "cell_type": "code",
   "execution_count": 75,
   "metadata": {},
   "outputs": [
    {
     "name": "stdout",
     "output_type": "stream",
     "text": [
      "With 20% Holdout: 0.02702702702702703\n",
      "Testing on Sample: 0.051630434782608696\n"
     ]
    }
   ],
   "source": [
    "# Test your model with different holdout groups.\n",
    "\n",
    "from sklearn.model_selection import train_test_split\n",
    "# Use train_test_split to create the necessary training and test groups\n",
    "X_train, X_test, y_train, y_test = train_test_split(data, target, test_size=0.2, random_state=20)\n",
    "print('With 20% Holdout: ' + str(bnb.fit(X_train, y_train).score(X_test, y_test)))\n",
    "print('Testing on Sample: ' + str(bnb.fit(data, target).score(data, target)))"
   ]
  },
  {
   "cell_type": "markdown",
   "metadata": {},
   "source": [
    "I was very confident the model was overfitting before and now this has been confirmed.\n",
    "I played around with the features: tried many combinations of Murder(0,1), Robbery(0,1), Larceny, Burglary, Population Number. I used the heatmap to try to figure out which ones were least correlated and use those but it still seems that the model is overfit on the 2013 data and I believe that is causing the 2014 data to show these low numbers."
   ]
  }
 ],
 "metadata": {
  "kernelspec": {
   "display_name": "Python 3",
   "language": "python",
   "name": "python3"
  },
  "language_info": {
   "codemirror_mode": {
    "name": "ipython",
    "version": 3
   },
   "file_extension": ".py",
   "mimetype": "text/x-python",
   "name": "python",
   "nbconvert_exporter": "python",
   "pygments_lexer": "ipython3",
   "version": "3.7.1"
  }
 },
 "nbformat": 4,
 "nbformat_minor": 2
}
